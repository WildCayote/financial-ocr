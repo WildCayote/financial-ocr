{
 "cells": [
  {
   "cell_type": "code",
   "execution_count": 5,
   "metadata": {},
   "outputs": [
    {
     "name": "stdout",
     "output_type": "stream",
     "text": [
      "Requirement already satisfied: layoutparser in /home/abdulmunim/.cache/pypoetry/virtualenvs/ocr-GCQYBIDt-py3.12/lib/python3.12/site-packages (0.3.4)\n",
      "Requirement already satisfied: pdf2image in /home/abdulmunim/.cache/pypoetry/virtualenvs/ocr-GCQYBIDt-py3.12/lib/python3.12/site-packages (1.17.0)\n",
      "Requirement already satisfied: pytesseract in /home/abdulmunim/.cache/pypoetry/virtualenvs/ocr-GCQYBIDt-py3.12/lib/python3.12/site-packages (0.3.13)\n",
      "Requirement already satisfied: opencv-python in /home/abdulmunim/.cache/pypoetry/virtualenvs/ocr-GCQYBIDt-py3.12/lib/python3.12/site-packages (4.11.0.86)\n",
      "Collecting reportlab\n",
      "  Downloading reportlab-4.3.1-py3-none-any.whl.metadata (1.7 kB)\n",
      "Requirement already satisfied: pdfplumber in /home/abdulmunim/.cache/pypoetry/virtualenvs/ocr-GCQYBIDt-py3.12/lib/python3.12/site-packages (0.11.5)\n",
      "Requirement already satisfied: numpy in /home/abdulmunim/.cache/pypoetry/virtualenvs/ocr-GCQYBIDt-py3.12/lib/python3.12/site-packages (from layoutparser) (2.2.4)\n",
      "Requirement already satisfied: scipy in /home/abdulmunim/.cache/pypoetry/virtualenvs/ocr-GCQYBIDt-py3.12/lib/python3.12/site-packages (from layoutparser) (1.15.2)\n",
      "Requirement already satisfied: pandas in /home/abdulmunim/.cache/pypoetry/virtualenvs/ocr-GCQYBIDt-py3.12/lib/python3.12/site-packages (from layoutparser) (2.2.3)\n",
      "Requirement already satisfied: pillow in /home/abdulmunim/.cache/pypoetry/virtualenvs/ocr-GCQYBIDt-py3.12/lib/python3.12/site-packages (from layoutparser) (11.1.0)\n",
      "Requirement already satisfied: pyyaml>=5.1 in /home/abdulmunim/.cache/pypoetry/virtualenvs/ocr-GCQYBIDt-py3.12/lib/python3.12/site-packages (from layoutparser) (6.0.2)\n",
      "Requirement already satisfied: iopath in /home/abdulmunim/.cache/pypoetry/virtualenvs/ocr-GCQYBIDt-py3.12/lib/python3.12/site-packages (from layoutparser) (0.1.10)\n",
      "Requirement already satisfied: packaging>=21.3 in /home/abdulmunim/.cache/pypoetry/virtualenvs/ocr-GCQYBIDt-py3.12/lib/python3.12/site-packages (from pytesseract) (24.2)\n",
      "Collecting chardet (from reportlab)\n",
      "  Downloading chardet-5.2.0-py3-none-any.whl.metadata (3.4 kB)\n",
      "Requirement already satisfied: pdfminer.six==20231228 in /home/abdulmunim/.cache/pypoetry/virtualenvs/ocr-GCQYBIDt-py3.12/lib/python3.12/site-packages (from pdfplumber) (20231228)\n",
      "Requirement already satisfied: pypdfium2>=4.18.0 in /home/abdulmunim/.cache/pypoetry/virtualenvs/ocr-GCQYBIDt-py3.12/lib/python3.12/site-packages (from pdfplumber) (4.30.1)\n",
      "Requirement already satisfied: charset-normalizer>=2.0.0 in /home/abdulmunim/.cache/pypoetry/virtualenvs/ocr-GCQYBIDt-py3.12/lib/python3.12/site-packages (from pdfminer.six==20231228->pdfplumber) (3.4.1)\n",
      "Requirement already satisfied: cryptography>=36.0.0 in /home/abdulmunim/.cache/pypoetry/virtualenvs/ocr-GCQYBIDt-py3.12/lib/python3.12/site-packages (from pdfminer.six==20231228->pdfplumber) (44.0.2)\n",
      "Requirement already satisfied: tqdm in /home/abdulmunim/.cache/pypoetry/virtualenvs/ocr-GCQYBIDt-py3.12/lib/python3.12/site-packages (from iopath->layoutparser) (4.67.1)\n",
      "Requirement already satisfied: typing_extensions in /home/abdulmunim/.cache/pypoetry/virtualenvs/ocr-GCQYBIDt-py3.12/lib/python3.12/site-packages (from iopath->layoutparser) (4.12.2)\n",
      "Requirement already satisfied: portalocker in /home/abdulmunim/.cache/pypoetry/virtualenvs/ocr-GCQYBIDt-py3.12/lib/python3.12/site-packages (from iopath->layoutparser) (3.1.1)\n",
      "Requirement already satisfied: python-dateutil>=2.8.2 in /home/abdulmunim/.cache/pypoetry/virtualenvs/ocr-GCQYBIDt-py3.12/lib/python3.12/site-packages (from pandas->layoutparser) (2.9.0.post0)\n",
      "Requirement already satisfied: pytz>=2020.1 in /home/abdulmunim/.cache/pypoetry/virtualenvs/ocr-GCQYBIDt-py3.12/lib/python3.12/site-packages (from pandas->layoutparser) (2025.1)\n",
      "Requirement already satisfied: tzdata>=2022.7 in /home/abdulmunim/.cache/pypoetry/virtualenvs/ocr-GCQYBIDt-py3.12/lib/python3.12/site-packages (from pandas->layoutparser) (2025.1)\n",
      "Requirement already satisfied: cffi>=1.12 in /home/abdulmunim/.cache/pypoetry/virtualenvs/ocr-GCQYBIDt-py3.12/lib/python3.12/site-packages (from cryptography>=36.0.0->pdfminer.six==20231228->pdfplumber) (1.17.1)\n",
      "Requirement already satisfied: six>=1.5 in /home/abdulmunim/.cache/pypoetry/virtualenvs/ocr-GCQYBIDt-py3.12/lib/python3.12/site-packages (from python-dateutil>=2.8.2->pandas->layoutparser) (1.17.0)\n",
      "Requirement already satisfied: pycparser in /home/abdulmunim/.cache/pypoetry/virtualenvs/ocr-GCQYBIDt-py3.12/lib/python3.12/site-packages (from cffi>=1.12->cryptography>=36.0.0->pdfminer.six==20231228->pdfplumber) (2.22)\n",
      "Downloading reportlab-4.3.1-py3-none-any.whl (1.9 MB)\n",
      "\u001b[2K   \u001b[90m━━━━━━━━━━━━━━━━━━━━━━━━━━━━━━━━━━━━━━━━\u001b[0m \u001b[32m1.9/1.9 MB\u001b[0m \u001b[31m784.7 kB/s\u001b[0m eta \u001b[36m0:00:00\u001b[0ma \u001b[36m0:00:01\u001b[0m\n",
      "\u001b[?25hDownloading chardet-5.2.0-py3-none-any.whl (199 kB)\n",
      "Installing collected packages: chardet, reportlab\n",
      "Successfully installed chardet-5.2.0 reportlab-4.3.1\n"
     ]
    }
   ],
   "source": [
    "! pip install layoutparser pdf2image pytesseract opencv-python reportlab pdfplumber"
   ]
  },
  {
   "cell_type": "code",
   "execution_count": 13,
   "metadata": {},
   "outputs": [
    {
     "name": "stdout",
     "output_type": "stream",
     "text": [
      "Collecting detectron2\n",
      "  Cloning https://github.com/facebookresearch/detectron2.git (to revision v0.4) to /tmp/pip-install-erhbc3jy/detectron2_76ae0198a07e45dc8737b0fcc375b49c\n",
      "  Running command git clone --filter=blob:none --quiet https://github.com/facebookresearch/detectron2.git /tmp/pip-install-erhbc3jy/detectron2_76ae0198a07e45dc8737b0fcc375b49c\n",
      "  Running command git checkout -q 4aca4bdaa9ad48b8e91d7520e0d0815bb8ca0fb1\n",
      "  Resolved https://github.com/facebookresearch/detectron2.git to commit 4aca4bdaa9ad48b8e91d7520e0d0815bb8ca0fb1\n",
      "  Installing build dependencies ... \u001b[?25ldone\n",
      "\u001b[?25h  Getting requirements to build wheel ... \u001b[?25lerror\n",
      "  \u001b[1;31merror\u001b[0m: \u001b[1msubprocess-exited-with-error\u001b[0m\n",
      "  \n",
      "  \u001b[31m×\u001b[0m \u001b[32mGetting requirements to build wheel\u001b[0m did not run successfully.\n",
      "  \u001b[31m│\u001b[0m exit code: \u001b[1;36m1\u001b[0m\n",
      "  \u001b[31m╰─>\u001b[0m \u001b[31m[20 lines of output]\u001b[0m\n",
      "  \u001b[31m   \u001b[0m Traceback (most recent call last):\n",
      "  \u001b[31m   \u001b[0m   File \"/home/abdulmunim/.cache/pypoetry/virtualenvs/ocr-GCQYBIDt-py3.12/lib/python3.12/site-packages/pip/_vendor/pyproject_hooks/_in_process/_in_process.py\", line 389, in <module>\n",
      "  \u001b[31m   \u001b[0m     main()\n",
      "  \u001b[31m   \u001b[0m   File \"/home/abdulmunim/.cache/pypoetry/virtualenvs/ocr-GCQYBIDt-py3.12/lib/python3.12/site-packages/pip/_vendor/pyproject_hooks/_in_process/_in_process.py\", line 373, in main\n",
      "  \u001b[31m   \u001b[0m     json_out[\"return_val\"] = hook(**hook_input[\"kwargs\"])\n",
      "  \u001b[31m   \u001b[0m                              ^^^^^^^^^^^^^^^^^^^^^^^^^^^^\n",
      "  \u001b[31m   \u001b[0m   File \"/home/abdulmunim/.cache/pypoetry/virtualenvs/ocr-GCQYBIDt-py3.12/lib/python3.12/site-packages/pip/_vendor/pyproject_hooks/_in_process/_in_process.py\", line 143, in get_requires_for_build_wheel\n",
      "  \u001b[31m   \u001b[0m     return hook(config_settings)\n",
      "  \u001b[31m   \u001b[0m            ^^^^^^^^^^^^^^^^^^^^^\n",
      "  \u001b[31m   \u001b[0m   File \"/tmp/pip-build-env-it8bl7gs/overlay/lib/python3.12/site-packages/setuptools/build_meta.py\", line 334, in get_requires_for_build_wheel\n",
      "  \u001b[31m   \u001b[0m     return self._get_build_requires(config_settings, requirements=[])\n",
      "  \u001b[31m   \u001b[0m            ^^^^^^^^^^^^^^^^^^^^^^^^^^^^^^^^^^^^^^^^^^^^^^^^^^^^^^^^^^\n",
      "  \u001b[31m   \u001b[0m   File \"/tmp/pip-build-env-it8bl7gs/overlay/lib/python3.12/site-packages/setuptools/build_meta.py\", line 304, in _get_build_requires\n",
      "  \u001b[31m   \u001b[0m     self.run_setup()\n",
      "  \u001b[31m   \u001b[0m   File \"/tmp/pip-build-env-it8bl7gs/overlay/lib/python3.12/site-packages/setuptools/build_meta.py\", line 522, in run_setup\n",
      "  \u001b[31m   \u001b[0m     super().run_setup(setup_script=setup_script)\n",
      "  \u001b[31m   \u001b[0m   File \"/tmp/pip-build-env-it8bl7gs/overlay/lib/python3.12/site-packages/setuptools/build_meta.py\", line 320, in run_setup\n",
      "  \u001b[31m   \u001b[0m     exec(code, locals())\n",
      "  \u001b[31m   \u001b[0m   File \"<string>\", line 10, in <module>\n",
      "  \u001b[31m   \u001b[0m ModuleNotFoundError: No module named 'torch'\n",
      "  \u001b[31m   \u001b[0m \u001b[31m[end of output]\u001b[0m\n",
      "  \n",
      "  \u001b[1;35mnote\u001b[0m: This error originates from a subprocess, and is likely not a problem with pip.\n",
      "\u001b[?25h\u001b[1;31merror\u001b[0m: \u001b[1msubprocess-exited-with-error\u001b[0m\n",
      "\n",
      "\u001b[31m×\u001b[0m \u001b[32mGetting requirements to build wheel\u001b[0m did not run successfully.\n",
      "\u001b[31m│\u001b[0m exit code: \u001b[1;36m1\u001b[0m\n",
      "\u001b[31m╰─>\u001b[0m See above for output.\n",
      "\n",
      "\u001b[1;35mnote\u001b[0m: This error originates from a subprocess, and is likely not a problem with pip.\n"
     ]
    }
   ],
   "source": [
    "! pip install 'git+https://github.com/facebookresearch/detectron2.git@v0.4#egg=detectron2'"
   ]
  },
  {
   "cell_type": "code",
   "execution_count": 8,
   "metadata": {},
   "outputs": [
    {
     "ename": "ImportError",
     "evalue": "\nDetectron2LayoutModel requires the detectron2 library but it was not found in your environment. Checkout the instructions on the\ninstallation page: https://github.com/facebookresearch/detectron2/blob/master/INSTALL.md and follow the ones\nthat match your environment. Typically the following would work for MacOS or Linux CPU machines:\n    pip install 'git+https://github.com/facebookresearch/detectron2.git@v0.4#egg=detectron2' \n",
     "output_type": "error",
     "traceback": [
      "\u001b[31m---------------------------------------------------------------------------\u001b[39m",
      "\u001b[31mImportError\u001b[39m                               Traceback (most recent call last)",
      "\u001b[36mCell\u001b[39m\u001b[36m \u001b[39m\u001b[32mIn[8]\u001b[39m\u001b[32m, line 13\u001b[39m\n\u001b[32m     10\u001b[39m images = pdf2image.convert_from_path(pdf_path)\n\u001b[32m     12\u001b[39m \u001b[38;5;66;03m# Load Layout Model\u001b[39;00m\n\u001b[32m---> \u001b[39m\u001b[32m13\u001b[39m model = \u001b[43mlp\u001b[49m\u001b[43m.\u001b[49m\u001b[43mmodels\u001b[49m\u001b[43m.\u001b[49m\u001b[43mDetectron2LayoutModel\u001b[49m\u001b[43m(\u001b[49m\n\u001b[32m     14\u001b[39m \u001b[43m    \u001b[49m\u001b[43mconfig_path\u001b[49m\u001b[43m=\u001b[49m\u001b[33;43m'\u001b[39;49m\u001b[33;43mlp://PubLayNet/faster_rcnn_R_50_FPN_3x/config\u001b[39;49m\u001b[33;43m'\u001b[39;49m\u001b[43m,\u001b[49m\n\u001b[32m     15\u001b[39m \u001b[43m    \u001b[49m\u001b[43mextra_config\u001b[49m\u001b[43m=\u001b[49m\u001b[43m[\u001b[49m\u001b[33;43m\"\u001b[39;49m\u001b[33;43mMODEL.ROI_HEADS.SCORE_THRESH_TEST\u001b[39;49m\u001b[33;43m\"\u001b[39;49m\u001b[43m,\u001b[49m\u001b[43m \u001b[49m\u001b[32;43m0.8\u001b[39;49m\u001b[43m]\u001b[49m\u001b[43m,\u001b[49m\n\u001b[32m     16\u001b[39m \u001b[43m    \u001b[49m\u001b[43mlabel_map\u001b[49m\u001b[43m=\u001b[49m\u001b[43m{\u001b[49m\u001b[32;43m0\u001b[39;49m\u001b[43m:\u001b[49m\u001b[43m \u001b[49m\u001b[33;43m\"\u001b[39;49m\u001b[33;43mText\u001b[39;49m\u001b[33;43m\"\u001b[39;49m\u001b[43m,\u001b[49m\u001b[43m \u001b[49m\u001b[32;43m1\u001b[39;49m\u001b[43m:\u001b[49m\u001b[43m \u001b[49m\u001b[33;43m\"\u001b[39;49m\u001b[33;43mTitle\u001b[39;49m\u001b[33;43m\"\u001b[39;49m\u001b[43m,\u001b[49m\u001b[43m \u001b[49m\u001b[32;43m2\u001b[39;49m\u001b[43m:\u001b[49m\u001b[43m \u001b[49m\u001b[33;43m\"\u001b[39;49m\u001b[33;43mList\u001b[39;49m\u001b[33;43m\"\u001b[39;49m\u001b[43m,\u001b[49m\u001b[43m \u001b[49m\u001b[32;43m3\u001b[39;49m\u001b[43m:\u001b[49m\u001b[43m \u001b[49m\u001b[33;43m\"\u001b[39;49m\u001b[33;43mTable\u001b[39;49m\u001b[33;43m\"\u001b[39;49m\u001b[43m,\u001b[49m\u001b[43m \u001b[49m\u001b[32;43m4\u001b[39;49m\u001b[43m:\u001b[49m\u001b[43m \u001b[49m\u001b[33;43m\"\u001b[39;49m\u001b[33;43mFigure\u001b[39;49m\u001b[33;43m\"\u001b[39;49m\u001b[43m}\u001b[49m\n\u001b[32m     17\u001b[39m \u001b[43m)\u001b[49m\n\u001b[32m     19\u001b[39m annotated_images = []\n\u001b[32m     21\u001b[39m \u001b[38;5;28;01mfor\u001b[39;00m img \u001b[38;5;129;01min\u001b[39;00m images:\n",
      "\u001b[36mFile \u001b[39m\u001b[32m~/.cache/pypoetry/virtualenvs/ocr-GCQYBIDt-py3.12/lib/python3.12/site-packages/layoutparser/models/base_layoutmodel.py:87\u001b[39m, in \u001b[36mBaseLayoutModel.__new__\u001b[39m\u001b[34m(cls, *args, **kwargs)\u001b[39m\n\u001b[32m     85\u001b[39m \u001b[38;5;28;01mdef\u001b[39;00m\u001b[38;5;250m \u001b[39m\u001b[34m__new__\u001b[39m(\u001b[38;5;28mcls\u001b[39m, *args, **kwargs):\n\u001b[32m---> \u001b[39m\u001b[32m87\u001b[39m     \u001b[43mrequires_backends\u001b[49m\u001b[43m(\u001b[49m\u001b[38;5;28;43mcls\u001b[39;49m\u001b[43m,\u001b[49m\u001b[43m \u001b[49m\u001b[38;5;28;43mcls\u001b[39;49m\u001b[43m.\u001b[49m\u001b[43mDEPENDENCIES\u001b[49m\u001b[43m)\u001b[49m\n\u001b[32m     88\u001b[39m     \u001b[38;5;28;01mreturn\u001b[39;00m \u001b[38;5;28msuper\u001b[39m().\u001b[34m__new__\u001b[39m(\u001b[38;5;28mcls\u001b[39m)\n",
      "\u001b[36mFile \u001b[39m\u001b[32m~/.cache/pypoetry/virtualenvs/ocr-GCQYBIDt-py3.12/lib/python3.12/site-packages/layoutparser/file_utils.py:175\u001b[39m, in \u001b[36mrequires_backends\u001b[39m\u001b[34m(obj, backends)\u001b[39m\n\u001b[32m    173\u001b[39m name = obj.\u001b[34m__name__\u001b[39m \u001b[38;5;28;01mif\u001b[39;00m \u001b[38;5;28mhasattr\u001b[39m(obj, \u001b[33m\"\u001b[39m\u001b[33m__name__\u001b[39m\u001b[33m\"\u001b[39m) \u001b[38;5;28;01melse\u001b[39;00m obj.\u001b[34m__class__\u001b[39m.\u001b[34m__name__\u001b[39m\n\u001b[32m    174\u001b[39m \u001b[38;5;28;01mif\u001b[39;00m \u001b[38;5;129;01mnot\u001b[39;00m \u001b[38;5;28mall\u001b[39m(BACKENDS_MAPPING[backend][\u001b[32m0\u001b[39m]() \u001b[38;5;28;01mfor\u001b[39;00m backend \u001b[38;5;129;01min\u001b[39;00m backends):\n\u001b[32m--> \u001b[39m\u001b[32m175\u001b[39m     \u001b[38;5;28;01mraise\u001b[39;00m \u001b[38;5;167;01mImportError\u001b[39;00m(\n\u001b[32m    176\u001b[39m         \u001b[33m\"\u001b[39m\u001b[33m\"\u001b[39m.join([BACKENDS_MAPPING[backend][\u001b[32m1\u001b[39m].format(name) \u001b[38;5;28;01mfor\u001b[39;00m backend \u001b[38;5;129;01min\u001b[39;00m backends])\n\u001b[32m    177\u001b[39m     )\n",
      "\u001b[31mImportError\u001b[39m: \nDetectron2LayoutModel requires the detectron2 library but it was not found in your environment. Checkout the instructions on the\ninstallation page: https://github.com/facebookresearch/detectron2/blob/master/INSTALL.md and follow the ones\nthat match your environment. Typically the following would work for MacOS or Linux CPU machines:\n    pip install 'git+https://github.com/facebookresearch/detectron2.git@v0.4#egg=detectron2' \n"
     ]
    }
   ],
   "source": [
    "import layoutparser as lp\n",
    "import pdf2image\n",
    "import cv2\n",
    "import numpy as np\n",
    "from PIL import Image, ImageDraw\n",
    "from reportlab.pdfgen import canvas\n",
    "\n",
    "# Convert PDF to images\n",
    "pdf_path = \"ethiotele.pdf\"\n",
    "images = pdf2image.convert_from_path(pdf_path)\n",
    "\n",
    "# Load Layout Model\n",
    "model = lp.models.Detectron2LayoutModel(\n",
    "    config_path='lp://PubLayNet/faster_rcnn_R_50_FPN_3x/config',\n",
    "    extra_config=[\"MODEL.ROI_HEADS.SCORE_THRESH_TEST\", 0.8],\n",
    "    label_map={0: \"Text\", 1: \"Title\", 2: \"List\", 3: \"Table\", 4: \"Figure\"}\n",
    ")\n",
    "\n",
    "annotated_images = []\n",
    "\n",
    "for img in images:\n",
    "    image = np.array(img)\n",
    "    layout = model.detect(image)\n",
    "\n",
    "    # Draw bounding boxes\n",
    "    draw = ImageDraw.Draw(img)\n",
    "    for block in layout:\n",
    "        x1, y1, x2, y2 = map(int, block.block.points.flatten())\n",
    "        draw.rectangle((x1, y1, x2, y2), outline=\"red\", width=2)\n",
    "\n",
    "    annotated_images.append(img)\n",
    "\n",
    "# Save annotated images as PDF\n",
    "output_pdf = \"output.pdf\"\n",
    "annotated_images[0].save(output_pdf, save_all=True, append_images=annotated_images[1:])\n",
    "print(f\"Annotated PDF saved as {output_pdf}\")\n"
   ]
  },
  {
   "cell_type": "code",
   "execution_count": null,
   "metadata": {},
   "outputs": [],
   "source": []
  }
 ],
 "metadata": {
  "kernelspec": {
   "display_name": "ocr-GCQYBIDt-py3.12",
   "language": "python",
   "name": "python3"
  },
  "language_info": {
   "codemirror_mode": {
    "name": "ipython",
    "version": 3
   },
   "file_extension": ".py",
   "mimetype": "text/x-python",
   "name": "python",
   "nbconvert_exporter": "python",
   "pygments_lexer": "ipython3",
   "version": "3.12.3"
  }
 },
 "nbformat": 4,
 "nbformat_minor": 2
}

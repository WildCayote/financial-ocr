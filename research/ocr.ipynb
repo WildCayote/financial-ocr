{
 "cells": [
  {
   "cell_type": "code",
   "execution_count": 1,
   "metadata": {},
   "outputs": [
    {
     "name": "stdout",
     "output_type": "stream",
     "text": [
      "Collecting opencv-python\n",
      "  Downloading opencv_python-4.11.0.86-cp37-abi3-manylinux_2_17_x86_64.manylinux2014_x86_64.whl.metadata (20 kB)\n",
      "Collecting numpy>=1.21.2 (from opencv-python)\n",
      "  Downloading numpy-2.2.4-cp312-cp312-manylinux_2_17_x86_64.manylinux2014_x86_64.whl.metadata (62 kB)\n",
      "Downloading opencv_python-4.11.0.86-cp37-abi3-manylinux_2_17_x86_64.manylinux2014_x86_64.whl (63.0 MB)\n",
      "\u001b[2K   \u001b[90m━━━━━━━━━━━━━━━━━━━━━━━━━━━━━━━━━━━━━━━━\u001b[0m \u001b[32m63.0/63.0 MB\u001b[0m \u001b[31m638.8 kB/s\u001b[0m eta \u001b[36m0:00:00\u001b[0m00:01\u001b[0m00:03\u001b[0m\n",
      "\u001b[?25hDownloading numpy-2.2.4-cp312-cp312-manylinux_2_17_x86_64.manylinux2014_x86_64.whl (16.1 MB)\n",
      "\u001b[2K   \u001b[90m━━━━━━━━━━━━━━━━━━━━━━━━━━━━━━━━━━━━━━━━\u001b[0m \u001b[32m16.1/16.1 MB\u001b[0m \u001b[31m660.7 kB/s\u001b[0m eta \u001b[36m0:00:00\u001b[0m00:01\u001b[0m00:01\u001b[0m\n",
      "\u001b[?25hInstalling collected packages: numpy, opencv-python\n",
      "Successfully installed numpy-2.2.4 opencv-python-4.11.0.86\n"
     ]
    }
   ],
   "source": [
    "! pip install opencv-python"
   ]
  },
  {
   "cell_type": "code",
   "execution_count": 2,
   "metadata": {},
   "outputs": [],
   "source": [
    "import cv2\n",
    "import numpy as np\n",
    "import pytesseract\n",
    "import re\n",
    "import argparse\n",
    "import logging\n",
    "import sys\n",
    "from typing import List, Dict, Any"
   ]
  },
  {
   "cell_type": "code",
   "execution_count": 3,
   "metadata": {},
   "outputs": [],
   "source": [
    "# Configure logging\n",
    "logging.basicConfig(format='%(levelname)s: %(message)s', level=logging.INFO)"
   ]
  },
  {
   "cell_type": "code",
   "execution_count": 4,
   "metadata": {},
   "outputs": [],
   "source": [
    "# -----------------------------------------------------------------------------\n",
    "# 1. Image Pre-processing Functions\n",
    "# -----------------------------------------------------------------------------\n",
    "def load_image(image_path: str) -> np.ndarray:\n",
    "    \"\"\"Loads the image from the provided path.\"\"\"\n",
    "    image = cv2.imread(image_path)\n",
    "    if image is None:\n",
    "        raise FileNotFoundError(f\"Image not found: {image_path}\")\n",
    "    logging.info(\"Image loaded successfully.\")\n",
    "    return image\n",
    "\n",
    "def preprocess_image(image_path: str) -> np.ndarray:\n",
    "    \"\"\"\n",
    "    Reads an image from a file, converts it to grayscale, applies adaptive thresholding,\n",
    "    performs noise reduction, and deskews the image.\n",
    "    \"\"\"\n",
    "    img = load_image(image_path)\n",
    "    gray = cv2.cvtColor(img, cv2.COLOR_BGR2GRAY)\n",
    "    \n",
    "    # Apply GaussianBlur for noise reduction\n",
    "    blurred = cv2.GaussianBlur(gray, (5, 5), 0)\n",
    "    \n",
    "    # Adaptive thresholding to emphasize text\n",
    "    proc = cv2.adaptiveThreshold(blurred, 255, cv2.ADAPTIVE_THRESH_GAUSSIAN_C,\n",
    "                                 cv2.THRESH_BINARY, 11, 2)\n",
    "    \n",
    "    # Deskew the image based on non-zero pixel coordinates\n",
    "    coords = np.column_stack(np.where(proc > 0))\n",
    "    if coords.size == 0:\n",
    "        logging.warning(\"No text detected for deskewing; proceeding without deskew.\")\n",
    "        return proc\n",
    "    \n",
    "    angle = cv2.minAreaRect(coords)[-1]\n",
    "    # Adjust angle based on observation from cv2.minAreaRect\n",
    "    if angle < -45:\n",
    "        angle = -(90 + angle)\n",
    "    else:\n",
    "        angle = -angle\n",
    "\n",
    "    logging.info(f\"Deskew angle determined: {angle:.2f} degrees\")\n",
    "    (h, w) = proc.shape[:2]\n",
    "    center = (w // 2, h // 2)\n",
    "    M = cv2.getRotationMatrix2D(center, angle, 1.0)\n",
    "    proc = cv2.warpAffine(proc, M, (w, h), flags=cv2.INTER_CUBIC, borderMode=cv2.BORDER_REPLICATE)\n",
    "    \n",
    "    return proc\n"
   ]
  },
  {
   "cell_type": "code",
   "execution_count": 5,
   "metadata": {},
   "outputs": [],
   "source": [
    "# -----------------------------------------------------------------------------\n",
    "# 2. OCR Extraction\n",
    "# -----------------------------------------------------------------------------\n",
    "def perform_ocr(image: np.ndarray) -> str:\n",
    "    \"\"\"\n",
    "    Uses pytesseract to extract text from the processed image.\n",
    "    The OCR configuration can be tuned; here we use:\n",
    "        --oem 3: Default (LSTM only in recent versions)\n",
    "        --psm 6: Assume a uniform block of text.\n",
    "    \"\"\"\n",
    "    custom_config = r'--oem 3 --psm 6'\n",
    "    try:\n",
    "        text = pytesseract.image_to_string(image, config=custom_config)\n",
    "        logging.info(\"OCR extraction completed.\")\n",
    "        return text\n",
    "    except Exception as e:\n",
    "        logging.error(\"An error occurred during OCR extraction: \" + str(e))\n",
    "        return \"\""
   ]
  },
  {
   "cell_type": "code",
   "execution_count": 6,
   "metadata": {},
   "outputs": [],
   "source": [
    "# -----------------------------------------------------------------------------\n",
    "# 3. Layout Analysis via Heuristics\n",
    "# -----------------------------------------------------------------------------\n",
    "def is_table_line(line: str) -> bool:\n",
    "    \"\"\"\n",
    "    Simple heuristic:\n",
    "      If a line contains multiple consecutive spaces or tabs, it may be part of a table.\n",
    "    \"\"\"\n",
    "    return bool(re.search(r'(\\t|\\s\\s+)', line))\n",
    "\n",
    "def group_lines_into_blocks(text: str) -> List[Dict[str, Any]]:\n",
    "    \"\"\"\n",
    "    Splits OCR text into lines and groups consecutive lines into blocks.\n",
    "    Each block is tagged as \"table\" or \"paragraph\" based on the heuristic.\n",
    "    Empty lines indicate block boundaries.\n",
    "    \n",
    "    Returns:\n",
    "        A list of dictionaries, each with keys \"type\" and \"lines\".\n",
    "    \"\"\"\n",
    "    lines = text.splitlines()\n",
    "    blocks: List[Dict[str, Any]] = []\n",
    "    current_block: Dict[str, Any] = {\"type\": None, \"lines\": []}\n",
    "\n",
    "    for line in lines:\n",
    "        stripped = line.strip()\n",
    "        if not stripped:\n",
    "            if current_block[\"lines\"]:\n",
    "                blocks.append(current_block)\n",
    "                current_block = {\"type\": None, \"lines\": []}\n",
    "            continue\n",
    "\n",
    "        line_type = \"table\" if is_table_line(line) else \"paragraph\"\n",
    "        if current_block[\"type\"] is None:\n",
    "            # Start a new block.\n",
    "            current_block[\"type\"] = line_type\n",
    "            current_block[\"lines\"].append(line)\n",
    "        elif current_block[\"type\"] == line_type:\n",
    "            current_block[\"lines\"].append(line)\n",
    "        else:\n",
    "            blocks.append(current_block)\n",
    "            current_block = {\"type\": line_type, \"lines\": [line]}\n",
    "\n",
    "    if current_block[\"lines\"]:\n",
    "        blocks.append(current_block)\n",
    "    logging.info(f\"Grouped text into {len(blocks)} blocks.\")\n",
    "    return blocks\n"
   ]
  },
  {
   "cell_type": "code",
   "execution_count": 7,
   "metadata": {},
   "outputs": [],
   "source": [
    "# -----------------------------------------------------------------------------\n",
    "# 4. Table Parsing and Markdown Conversion\n",
    "# -----------------------------------------------------------------------------\n",
    "def parse_table_block(block: Dict[str, Any]) -> List[List[str]]:\n",
    "    \"\"\"\n",
    "    Process a block that is presumed to be table data.\n",
    "    Splits each line using tab characters or multiple consecutive spaces.\n",
    "    Returns a 2D list representing rows and columns.\n",
    "    \"\"\"\n",
    "    table_data = []\n",
    "    for line in block[\"lines\"]:\n",
    "        # Prefer tabs; if absent, use multiple spaces\n",
    "        if '\\t' in line:\n",
    "            row = [cell.strip() for cell in line.split('\\t') if cell.strip()]\n",
    "        else:\n",
    "            row = [cell.strip() for cell in re.split(r'\\s{2,}', line) if cell.strip()]\n",
    "        if row:\n",
    "            table_data.append(row)\n",
    "    \n",
    "    # Normalize the table rows so that every row has the same number of columns.\n",
    "    if table_data:\n",
    "        max_cols = max(len(row) for row in table_data)\n",
    "    else:\n",
    "        max_cols = 0\n",
    "\n",
    "    normalized_table = []\n",
    "    for row in table_data:\n",
    "        if len(row) < max_cols:\n",
    "            row.extend([\"\"] * (max_cols - len(row)))\n",
    "        normalized_table.append(row)\n",
    "    return normalized_table"
   ]
  },
  {
   "cell_type": "code",
   "execution_count": 8,
   "metadata": {},
   "outputs": [],
   "source": [
    "def convert_table_to_markdown(table: List[List[str]]) -> str:\n",
    "    \"\"\"\n",
    "    Converts a 2D list (of rows and cells) into a Markdown formatted table.\n",
    "    The first row is treated as the table header.\n",
    "    \"\"\"\n",
    "    if not table:\n",
    "        return \"\"\n",
    "    \n",
    "    md_lines = []\n",
    "    header = table[0]\n",
    "    md_lines.append(\" | \".join(header))\n",
    "    md_lines.append(\" | \".join([\"---\"] * len(header)))\n",
    "    \n",
    "    for row in table[1:]:\n",
    "        md_lines.append(\" | \".join(row))\n",
    "    \n",
    "    return \"\\n\".join(md_lines)"
   ]
  },
  {
   "cell_type": "code",
   "execution_count": 9,
   "metadata": {},
   "outputs": [],
   "source": [
    "def convert_blocks_to_markdown(blocks: List[Dict[str, Any]]) -> str:\n",
    "    \"\"\"\n",
    "    Converts each block into Markdown format:\n",
    "      • Paragraph blocks are joined as-is.\n",
    "      • Table blocks are passed through table parsing and converted into Markdown table syntax.\n",
    "    Returns the entire Markdown document as a string.\n",
    "    \"\"\"\n",
    "    markdown_parts = []\n",
    "\n",
    "    for block in blocks:\n",
    "        if block[\"type\"] == \"paragraph\":\n",
    "            markdown_parts.append(\"\\n\".join(block[\"lines\"]))\n",
    "        elif block[\"type\"] == \"table\":\n",
    "            table = parse_table_block(block)\n",
    "            md_table = convert_table_to_markdown(table)\n",
    "            markdown_parts.append(md_table)\n",
    "        # Append an empty line after each block for readability.\n",
    "        markdown_parts.append(\"\")\n",
    "    \n",
    "    return \"\\n\".join(markdown_parts)"
   ]
  },
  {
   "cell_type": "code",
   "execution_count": 10,
   "metadata": {},
   "outputs": [],
   "source": [
    "# -----------------------------------------------------------------------------\n",
    "# 5. Pipeline Assembly and Execution\n",
    "# -----------------------------------------------------------------------------\n",
    "def run_pipeline(image_path: str, output_file: str) -> None:\n",
    "    logging.info(\"Beginning processing of image: %s\", image_path)\n",
    "    \n",
    "    processed_img = preprocess_image(image_path)\n",
    "    ocr_text = perform_ocr(processed_img)\n",
    "    \n",
    "    if not ocr_text.strip():\n",
    "        logging.error(\"OCR produced no text. Exiting.\")\n",
    "        sys.exit(1)\n",
    "    \n",
    "    blocks = group_lines_into_blocks(ocr_text)\n",
    "    markdown_text = convert_blocks_to_markdown(blocks)\n",
    "    \n",
    "    try:\n",
    "        with open(output_file, \"w\", encoding=\"utf-8\") as f:\n",
    "            f.write(markdown_text)\n",
    "        logging.info(\"Markdown output successfully saved to: %s\", output_file)\n",
    "    except Exception as e:\n",
    "        logging.error(\"Error writing Markdown output: \" + str(e))\n",
    "        sys.exit(1)"
   ]
  },
  {
   "cell_type": "code",
   "execution_count": 11,
   "metadata": {},
   "outputs": [],
   "source": [
    "# -----------------------------------------------------------------------------\n",
    "# 6. Command-Line Interface\n",
    "# -----------------------------------------------------------------------------\n",
    "def parse_args():\n",
    "    parser = argparse.ArgumentParser(\n",
    "        description=\"Convert scanned financial document images into Markdown.\"\n",
    "    )\n",
    "    parser.add_argument(\"image\", help=\"Path to the image file to be processed.\")\n",
    "    parser.add_argument(\n",
    "        \"-o\", \"--output\", default=\"output.md\", help=\"Path for the output Markdown file.\"\n",
    "    )\n",
    "    return parser.parse_args()\n",
    "\n",
    "def main():\n",
    "    args = parse_args()\n",
    "    run_pipeline(args.image, args.output)"
   ]
  },
  {
   "cell_type": "code",
   "execution_count": 13,
   "metadata": {},
   "outputs": [
    {
     "name": "stderr",
     "output_type": "stream",
     "text": [
      "usage: ipykernel_launcher.py [-h] [-o OUTPUT] image\n",
      "ipykernel_launcher.py: error: the following arguments are required: image\n"
     ]
    },
    {
     "ename": "SystemExit",
     "evalue": "2",
     "output_type": "error",
     "traceback": [
      "An exception has occurred, use %tb to see the full traceback.\n",
      "\u001b[31mSystemExit\u001b[39m\u001b[31m:\u001b[39m 2\n"
     ]
    }
   ],
   "source": [
    "if __name__ == \"__main__\":\n",
    "    main()"
   ]
  },
  {
   "cell_type": "code",
   "execution_count": null,
   "metadata": {},
   "outputs": [],
   "source": []
  }
 ],
 "metadata": {
  "kernelspec": {
   "display_name": "ocr-GCQYBIDt-py3.12",
   "language": "python",
   "name": "python3"
  },
  "language_info": {
   "codemirror_mode": {
    "name": "ipython",
    "version": 3
   },
   "file_extension": ".py",
   "mimetype": "text/x-python",
   "name": "python",
   "nbconvert_exporter": "python",
   "pygments_lexer": "ipython3",
   "version": "3.12.3"
  }
 },
 "nbformat": 4,
 "nbformat_minor": 2
}

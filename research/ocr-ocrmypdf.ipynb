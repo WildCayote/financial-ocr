{
 "cells": [
  {
   "cell_type": "code",
   "execution_count": 2,
   "metadata": {},
   "outputs": [
    {
     "name": "stdout",
     "output_type": "stream",
     "text": [
      "Collecting ocrmypdf\n",
      "  Using cached ocrmypdf-16.10.0-py3-none-any.whl.metadata (11 kB)\n",
      "Collecting pymupdf\n",
      "  Using cached pymupdf-1.25.4-cp39-abi3-manylinux2014_x86_64.manylinux_2_17_x86_64.whl.metadata (3.4 kB)\n",
      "Collecting deprecation>=2.1.0 (from ocrmypdf)\n",
      "  Using cached deprecation-2.1.0-py2.py3-none-any.whl.metadata (4.6 kB)\n",
      "Collecting img2pdf>=0.5 (from ocrmypdf)\n",
      "  Using cached img2pdf-0.6.0.tar.gz (106 kB)\n",
      "  Installing build dependencies ... \u001b[?25ldone\n",
      "\u001b[?25h  Getting requirements to build wheel ... \u001b[?25ldone\n",
      "\u001b[?25h  Preparing metadata (pyproject.toml) ... \u001b[?25ldone\n",
      "\u001b[?25hRequirement already satisfied: packaging>=20 in /home/abdulmunim/.cache/pypoetry/virtualenvs/ocr-GCQYBIDt-py3.12/lib/python3.12/site-packages (from ocrmypdf) (24.2)\n",
      "Collecting pdfminer-six>=20220319 (from ocrmypdf)\n",
      "  Using cached pdfminer.six-20240706-py3-none-any.whl.metadata (4.1 kB)\n",
      "Collecting pi-heif (from ocrmypdf)\n",
      "  Using cached pi_heif-0.22.0-cp312-cp312-manylinux_2_17_x86_64.manylinux2014_x86_64.whl.metadata (6.5 kB)\n",
      "Collecting pikepdf>=8.10.1 (from ocrmypdf)\n",
      "  Using cached pikepdf-9.5.2-cp312-cp312-manylinux_2_17_x86_64.manylinux2014_x86_64.whl.metadata (8.1 kB)\n",
      "Requirement already satisfied: pillow>=10.0.1 in /home/abdulmunim/.cache/pypoetry/virtualenvs/ocr-GCQYBIDt-py3.12/lib/python3.12/site-packages (from ocrmypdf) (11.1.0)\n",
      "Collecting pluggy>=1 (from ocrmypdf)\n",
      "  Using cached pluggy-1.5.0-py3-none-any.whl.metadata (4.8 kB)\n",
      "Collecting rich>=13 (from ocrmypdf)\n",
      "  Using cached rich-13.9.4-py3-none-any.whl.metadata (18 kB)\n",
      "Requirement already satisfied: charset-normalizer>=2.0.0 in /home/abdulmunim/.cache/pypoetry/virtualenvs/ocr-GCQYBIDt-py3.12/lib/python3.12/site-packages (from pdfminer-six>=20220319->ocrmypdf) (3.4.1)\n",
      "Collecting cryptography>=36.0.0 (from pdfminer-six>=20220319->ocrmypdf)\n",
      "  Using cached cryptography-44.0.2-cp39-abi3-manylinux_2_34_x86_64.whl.metadata (5.7 kB)\n",
      "Collecting Deprecated (from pikepdf>=8.10.1->ocrmypdf)\n",
      "  Using cached Deprecated-1.2.18-py2.py3-none-any.whl.metadata (5.7 kB)\n",
      "Collecting lxml>=4.8 (from pikepdf>=8.10.1->ocrmypdf)\n",
      "  Using cached lxml-5.3.1-cp312-cp312-manylinux_2_28_x86_64.whl.metadata (3.7 kB)\n",
      "Collecting markdown-it-py>=2.2.0 (from rich>=13->ocrmypdf)\n",
      "  Using cached markdown_it_py-3.0.0-py3-none-any.whl.metadata (6.9 kB)\n",
      "Requirement already satisfied: pygments<3.0.0,>=2.13.0 in /home/abdulmunim/.cache/pypoetry/virtualenvs/ocr-GCQYBIDt-py3.12/lib/python3.12/site-packages (from rich>=13->ocrmypdf) (2.19.1)\n",
      "Collecting cffi>=1.12 (from cryptography>=36.0.0->pdfminer-six>=20220319->ocrmypdf)\n",
      "  Using cached cffi-1.17.1-cp312-cp312-manylinux_2_17_x86_64.manylinux2014_x86_64.whl.metadata (1.5 kB)\n",
      "Collecting mdurl~=0.1 (from markdown-it-py>=2.2.0->rich>=13->ocrmypdf)\n",
      "  Using cached mdurl-0.1.2-py3-none-any.whl.metadata (1.6 kB)\n",
      "Collecting wrapt<2,>=1.10 (from Deprecated->pikepdf>=8.10.1->ocrmypdf)\n",
      "  Using cached wrapt-1.17.2-cp312-cp312-manylinux_2_5_x86_64.manylinux1_x86_64.manylinux_2_17_x86_64.manylinux2014_x86_64.whl.metadata (6.4 kB)\n",
      "Collecting pycparser (from cffi>=1.12->cryptography>=36.0.0->pdfminer-six>=20220319->ocrmypdf)\n",
      "  Using cached pycparser-2.22-py3-none-any.whl.metadata (943 bytes)\n",
      "Using cached ocrmypdf-16.10.0-py3-none-any.whl (162 kB)\n",
      "Downloading pymupdf-1.25.4-cp39-abi3-manylinux2014_x86_64.manylinux_2_17_x86_64.whl (20.0 MB)\n",
      "\u001b[2K   \u001b[90m━━━━━━━━━━━━━━━━━━━━━━━━━━━━━━━━━━━━━━━━\u001b[0m \u001b[32m20.0/20.0 MB\u001b[0m \u001b[31m2.2 MB/s\u001b[0m eta \u001b[36m0:00:00\u001b[0m00:01\u001b[0m00:01\u001b[0mm\n",
      "\u001b[?25hDownloading deprecation-2.1.0-py2.py3-none-any.whl (11 kB)\n",
      "Downloading pdfminer.six-20240706-py3-none-any.whl (5.6 MB)\n",
      "\u001b[2K   \u001b[90m━━━━━━━━━━━━━━━━━━━━━━━━━━━━━━━━━━━━━━━━\u001b[0m \u001b[32m5.6/5.6 MB\u001b[0m \u001b[31m4.7 MB/s\u001b[0m eta \u001b[36m0:00:00\u001b[0ma \u001b[36m0:00:01\u001b[0m\n",
      "\u001b[?25hDownloading pikepdf-9.5.2-cp312-cp312-manylinux_2_17_x86_64.manylinux2014_x86_64.whl (2.4 MB)\n",
      "\u001b[2K   \u001b[90m━━━━━━━━━━━━━━━━━━━━━━━━━━━━━━━━━━━━━━━━\u001b[0m \u001b[32m2.4/2.4 MB\u001b[0m \u001b[31m5.9 MB/s\u001b[0m eta \u001b[36m0:00:00\u001b[0ma \u001b[36m0:00:01\u001b[0m\n",
      "\u001b[?25hDownloading pluggy-1.5.0-py3-none-any.whl (20 kB)\n",
      "Downloading rich-13.9.4-py3-none-any.whl (242 kB)\n",
      "Downloading pi_heif-0.22.0-cp312-cp312-manylinux_2_17_x86_64.manylinux2014_x86_64.whl (1.2 MB)\n",
      "\u001b[2K   \u001b[90m━━━━━━━━━━━━━━━━━━━━━━━━━━━━━━━━━━━━━━━━\u001b[0m \u001b[32m1.2/1.2 MB\u001b[0m \u001b[31m3.9 MB/s\u001b[0m eta \u001b[36m0:00:00\u001b[0ma \u001b[36m0:00:01\u001b[0m\n",
      "\u001b[?25hUsing cached cryptography-44.0.2-cp39-abi3-manylinux_2_34_x86_64.whl (4.2 MB)\n",
      "Downloading lxml-5.3.1-cp312-cp312-manylinux_2_28_x86_64.whl (5.0 MB)\n",
      "\u001b[2K   \u001b[90m━━━━━━━━━━━━━━━━━━━━━━━━━━━━━━━━━━━━━━━━\u001b[0m \u001b[32m5.0/5.0 MB\u001b[0m \u001b[31m4.0 MB/s\u001b[0m eta \u001b[36m0:00:00\u001b[0ma \u001b[36m0:00:01\u001b[0m\n",
      "\u001b[?25hDownloading markdown_it_py-3.0.0-py3-none-any.whl (87 kB)\n",
      "Downloading Deprecated-1.2.18-py2.py3-none-any.whl (10.0 kB)\n",
      "Using cached cffi-1.17.1-cp312-cp312-manylinux_2_17_x86_64.manylinux2014_x86_64.whl (479 kB)\n",
      "Downloading mdurl-0.1.2-py3-none-any.whl (10.0 kB)\n",
      "Downloading wrapt-1.17.2-cp312-cp312-manylinux_2_5_x86_64.manylinux1_x86_64.manylinux_2_17_x86_64.manylinux2014_x86_64.whl (89 kB)\n",
      "Using cached pycparser-2.22-py3-none-any.whl (117 kB)\n",
      "Building wheels for collected packages: img2pdf\n",
      "  Building wheel for img2pdf (pyproject.toml) ... \u001b[?25ldone\n",
      "\u001b[?25h  Created wheel for img2pdf: filename=img2pdf-0.6.0-py3-none-any.whl size=51071 sha256=3330e856740f9791572d7f98602fc411950803ed233e8b0b139cbe48d25e31a2\n",
      "  Stored in directory: /home/abdulmunim/.cache/pip/wheels/ab/d8/41/6185e82645a6c7c52c2fe5a1287eb7c85dba2e9ac5e6ce78e2\n",
      "Successfully built img2pdf\n",
      "Installing collected packages: wrapt, pymupdf, pycparser, pluggy, pi-heif, mdurl, lxml, deprecation, markdown-it-py, Deprecated, cffi, rich, pikepdf, cryptography, pdfminer-six, img2pdf, ocrmypdf\n",
      "Successfully installed Deprecated-1.2.18 cffi-1.17.1 cryptography-44.0.2 deprecation-2.1.0 img2pdf-0.6.0 lxml-5.3.1 markdown-it-py-3.0.0 mdurl-0.1.2 ocrmypdf-16.10.0 pdfminer-six-20240706 pi-heif-0.22.0 pikepdf-9.5.2 pluggy-1.5.0 pycparser-2.22 pymupdf-1.25.4 rich-13.9.4 wrapt-1.17.2\n"
     ]
    }
   ],
   "source": [
    "! pip install ocrmypdf pymupdf"
   ]
  },
  {
   "cell_type": "code",
   "execution_count": 5,
   "metadata": {},
   "outputs": [],
   "source": [
    "import ocrmypdf\n",
    "import fitz  # PyMuPDF\n",
    "\n",
    "def convert_pdf_to_structured_text(input_pdf_path, output_text_path):\n",
    "    # Step 1: Use OCRmyPDF to create a searchable PDF (adds OCR layer if needed)\n",
    "    ocrmypdf.ocr(\n",
    "        input_pdf_path, \n",
    "        \"temp_ocr_output.pdf\", \n",
    "        deskew=True,       # Fix skewed scans\n",
    "        force_ocr=False,  # Only OCR pages without text\n",
    "        optimize=True     # Reduce output file size\n",
    "    )\n",
    "    \n",
    "    # Step 2: Extract text with layout using PyMuPDF\n",
    "    doc = fitz.open(\"temp_ocr_output.pdf\")\n",
    "    full_text = []\n",
    "    \n",
    "    for page_num, page in enumerate(doc):\n",
    "        # Get text blocks with coordinates (sorted top-to-bottom, left-to-right)\n",
    "        blocks = page.get_text(\"blocks\")\n",
    "        blocks.sort(key=lambda b: (b[1], b[0]))  # Sort by Y, then X\n",
    "        \n",
    "        for block in blocks:\n",
    "            text = block[4].strip()  # Block text content\n",
    "            if text:  # Skip empty blocks\n",
    "                full_text.append(text)\n",
    "    \n",
    "    # Save to text file\n",
    "    with open(output_text_path, \"w\", encoding=\"utf-8\") as f:\n",
    "        f.write(\"\\n\\n\".join(full_text))  # Separate blocks with newlines\n",
    "\n",
    "    print(f\"Text saved to: {output_text_path}\")"
   ]
  },
  {
   "cell_type": "code",
   "execution_count": 6,
   "metadata": {},
   "outputs": [
    {
     "ename": "ValueError",
     "evalue": "argument -O/--optimize: invalid int value: 'ethiotele.pdf'",
     "output_type": "error",
     "traceback": [
      "\u001b[31m---------------------------------------------------------------------------\u001b[39m",
      "\u001b[31mValueError\u001b[39m                                Traceback (most recent call last)",
      "\u001b[36mFile \u001b[39m\u001b[32m/usr/lib/python3.12/argparse.py:2577\u001b[39m, in \u001b[36mArgumentParser._get_value\u001b[39m\u001b[34m(self, action, arg_string)\u001b[39m\n\u001b[32m   2576\u001b[39m \u001b[38;5;28;01mtry\u001b[39;00m:\n\u001b[32m-> \u001b[39m\u001b[32m2577\u001b[39m     result = \u001b[43mtype_func\u001b[49m\u001b[43m(\u001b[49m\u001b[43marg_string\u001b[49m\u001b[43m)\u001b[49m\n\u001b[32m   2579\u001b[39m \u001b[38;5;66;03m# ArgumentTypeErrors indicate errors\u001b[39;00m\n",
      "\u001b[31mValueError\u001b[39m: invalid literal for int() with base 10: 'ethiotele.pdf'",
      "\nDuring handling of the above exception, another exception occurred:\n",
      "\u001b[31mArgumentError\u001b[39m                             Traceback (most recent call last)",
      "\u001b[36mFile \u001b[39m\u001b[32m/usr/lib/python3.12/argparse.py:1941\u001b[39m, in \u001b[36mArgumentParser.parse_known_args\u001b[39m\u001b[34m(self, args, namespace)\u001b[39m\n\u001b[32m   1940\u001b[39m \u001b[38;5;28;01mtry\u001b[39;00m:\n\u001b[32m-> \u001b[39m\u001b[32m1941\u001b[39m     namespace, args = \u001b[38;5;28;43mself\u001b[39;49m\u001b[43m.\u001b[49m\u001b[43m_parse_known_args\u001b[49m\u001b[43m(\u001b[49m\u001b[43margs\u001b[49m\u001b[43m,\u001b[49m\u001b[43m \u001b[49m\u001b[43mnamespace\u001b[49m\u001b[43m)\u001b[49m\n\u001b[32m   1942\u001b[39m \u001b[38;5;28;01mexcept\u001b[39;00m ArgumentError \u001b[38;5;28;01mas\u001b[39;00m err:\n",
      "\u001b[36mFile \u001b[39m\u001b[32m/usr/lib/python3.12/argparse.py:2162\u001b[39m, in \u001b[36mArgumentParser._parse_known_args\u001b[39m\u001b[34m(self, arg_strings, namespace)\u001b[39m\n\u001b[32m   2161\u001b[39m     \u001b[38;5;66;03m# consume the next optional and any arguments for it\u001b[39;00m\n\u001b[32m-> \u001b[39m\u001b[32m2162\u001b[39m     start_index = \u001b[43mconsume_optional\u001b[49m\u001b[43m(\u001b[49m\u001b[43mstart_index\u001b[49m\u001b[43m)\u001b[49m\n\u001b[32m   2164\u001b[39m \u001b[38;5;66;03m# consume any positionals following the last Optional\u001b[39;00m\n",
      "\u001b[36mFile \u001b[39m\u001b[32m/usr/lib/python3.12/argparse.py:2102\u001b[39m, in \u001b[36mArgumentParser._parse_known_args.<locals>.consume_optional\u001b[39m\u001b[34m(start_index)\u001b[39m\n\u001b[32m   2101\u001b[39m \u001b[38;5;28;01mfor\u001b[39;00m action, args, option_string \u001b[38;5;129;01min\u001b[39;00m action_tuples:\n\u001b[32m-> \u001b[39m\u001b[32m2102\u001b[39m     \u001b[43mtake_action\u001b[49m\u001b[43m(\u001b[49m\u001b[43maction\u001b[49m\u001b[43m,\u001b[49m\u001b[43m \u001b[49m\u001b[43margs\u001b[49m\u001b[43m,\u001b[49m\u001b[43m \u001b[49m\u001b[43moption_string\u001b[49m\u001b[43m)\u001b[49m\n\u001b[32m   2103\u001b[39m \u001b[38;5;28;01mreturn\u001b[39;00m stop\n",
      "\u001b[36mFile \u001b[39m\u001b[32m/usr/lib/python3.12/argparse.py:2001\u001b[39m, in \u001b[36mArgumentParser._parse_known_args.<locals>.take_action\u001b[39m\u001b[34m(action, argument_strings, option_string)\u001b[39m\n\u001b[32m   2000\u001b[39m seen_actions.add(action)\n\u001b[32m-> \u001b[39m\u001b[32m2001\u001b[39m argument_values = \u001b[38;5;28;43mself\u001b[39;49m\u001b[43m.\u001b[49m\u001b[43m_get_values\u001b[49m\u001b[43m(\u001b[49m\u001b[43maction\u001b[49m\u001b[43m,\u001b[49m\u001b[43m \u001b[49m\u001b[43margument_strings\u001b[49m\u001b[43m)\u001b[49m\n\u001b[32m   2003\u001b[39m \u001b[38;5;66;03m# error if this argument is not allowed with other previously\u001b[39;00m\n\u001b[32m   2004\u001b[39m \u001b[38;5;66;03m# seen arguments, assuming that actions that use the default\u001b[39;00m\n\u001b[32m   2005\u001b[39m \u001b[38;5;66;03m# value don't really count as \"present\"\u001b[39;00m\n",
      "\u001b[36mFile \u001b[39m\u001b[32m/usr/lib/python3.12/argparse.py:2544\u001b[39m, in \u001b[36mArgumentParser._get_values\u001b[39m\u001b[34m(self, action, arg_strings)\u001b[39m\n\u001b[32m   2543\u001b[39m arg_string, = arg_strings\n\u001b[32m-> \u001b[39m\u001b[32m2544\u001b[39m value = \u001b[38;5;28;43mself\u001b[39;49m\u001b[43m.\u001b[49m\u001b[43m_get_value\u001b[49m\u001b[43m(\u001b[49m\u001b[43maction\u001b[49m\u001b[43m,\u001b[49m\u001b[43m \u001b[49m\u001b[43marg_string\u001b[49m\u001b[43m)\u001b[49m\n\u001b[32m   2545\u001b[39m \u001b[38;5;28mself\u001b[39m._check_value(action, value)\n",
      "\u001b[36mFile \u001b[39m\u001b[32m/usr/lib/python3.12/argparse.py:2589\u001b[39m, in \u001b[36mArgumentParser._get_value\u001b[39m\u001b[34m(self, action, arg_string)\u001b[39m\n\u001b[32m   2588\u001b[39m     msg = _(\u001b[33m'\u001b[39m\u001b[33minvalid \u001b[39m\u001b[38;5;132;01m%(type)s\u001b[39;00m\u001b[33m value: \u001b[39m\u001b[38;5;132;01m%(value)r\u001b[39;00m\u001b[33m'\u001b[39m)\n\u001b[32m-> \u001b[39m\u001b[32m2589\u001b[39m     \u001b[38;5;28;01mraise\u001b[39;00m ArgumentError(action, msg % args)\n\u001b[32m   2591\u001b[39m \u001b[38;5;66;03m# return the converted value\u001b[39;00m\n",
      "\u001b[31mArgumentError\u001b[39m: argument -O/--optimize: invalid int value: 'ethiotele.pdf'",
      "\nDuring handling of the above exception, another exception occurred:\n",
      "\u001b[31mValueError\u001b[39m                                Traceback (most recent call last)",
      "\u001b[36mCell\u001b[39m\u001b[36m \u001b[39m\u001b[32mIn[6]\u001b[39m\u001b[32m, line 1\u001b[39m\n\u001b[32m----> \u001b[39m\u001b[32m1\u001b[39m \u001b[43mconvert_pdf_to_structured_text\u001b[49m\u001b[43m(\u001b[49m\u001b[33;43m\"\u001b[39;49m\u001b[33;43methiotele.pdf\u001b[39;49m\u001b[33;43m\"\u001b[39;49m\u001b[43m,\u001b[49m\u001b[43m \u001b[49m\u001b[33;43m\"\u001b[39;49m\u001b[33;43moutput.txt\u001b[39;49m\u001b[33;43m\"\u001b[39;49m\u001b[43m)\u001b[49m\n",
      "\u001b[36mCell\u001b[39m\u001b[36m \u001b[39m\u001b[32mIn[5]\u001b[39m\u001b[32m, line 6\u001b[39m, in \u001b[36mconvert_pdf_to_structured_text\u001b[39m\u001b[34m(input_pdf_path, output_text_path)\u001b[39m\n\u001b[32m      4\u001b[39m \u001b[38;5;28;01mdef\u001b[39;00m\u001b[38;5;250m \u001b[39m\u001b[34mconvert_pdf_to_structured_text\u001b[39m(input_pdf_path, output_text_path):\n\u001b[32m      5\u001b[39m     \u001b[38;5;66;03m# Step 1: Use OCRmyPDF to create a searchable PDF (adds OCR layer if needed)\u001b[39;00m\n\u001b[32m----> \u001b[39m\u001b[32m6\u001b[39m     \u001b[43mocrmypdf\u001b[49m\u001b[43m.\u001b[49m\u001b[43mocr\u001b[49m\u001b[43m(\u001b[49m\n\u001b[32m      7\u001b[39m \u001b[43m        \u001b[49m\u001b[43minput_pdf_path\u001b[49m\u001b[43m,\u001b[49m\u001b[43m \u001b[49m\n\u001b[32m      8\u001b[39m \u001b[43m        \u001b[49m\u001b[33;43m\"\u001b[39;49m\u001b[33;43mtemp_ocr_output.pdf\u001b[39;49m\u001b[33;43m\"\u001b[39;49m\u001b[43m,\u001b[49m\u001b[43m \u001b[49m\n\u001b[32m      9\u001b[39m \u001b[43m        \u001b[49m\u001b[43mdeskew\u001b[49m\u001b[43m=\u001b[49m\u001b[38;5;28;43;01mTrue\u001b[39;49;00m\u001b[43m,\u001b[49m\u001b[43m       \u001b[49m\u001b[38;5;66;43;03m# Fix skewed scans\u001b[39;49;00m\n\u001b[32m     10\u001b[39m \u001b[43m        \u001b[49m\u001b[43mforce_ocr\u001b[49m\u001b[43m=\u001b[49m\u001b[38;5;28;43;01mFalse\u001b[39;49;00m\u001b[43m,\u001b[49m\u001b[43m  \u001b[49m\u001b[38;5;66;43;03m# Only OCR pages without text\u001b[39;49;00m\n\u001b[32m     11\u001b[39m \u001b[43m        \u001b[49m\u001b[43moptimize\u001b[49m\u001b[43m=\u001b[49m\u001b[38;5;28;43;01mTrue\u001b[39;49;00m\u001b[43m     \u001b[49m\u001b[38;5;66;43;03m# Reduce output file size\u001b[39;49;00m\n\u001b[32m     12\u001b[39m \u001b[43m    \u001b[49m\u001b[43m)\u001b[49m\n\u001b[32m     14\u001b[39m     \u001b[38;5;66;03m# Step 2: Extract text with layout using PyMuPDF\u001b[39;00m\n\u001b[32m     15\u001b[39m     doc = fitz.open(\u001b[33m\"\u001b[39m\u001b[33mtemp_ocr_output.pdf\u001b[39m\u001b[33m\"\u001b[39m)\n",
      "\u001b[36mFile \u001b[39m\u001b[32m~/.cache/pypoetry/virtualenvs/ocr-GCQYBIDt-py3.12/lib/python3.12/site-packages/ocrmypdf/api.py:373\u001b[39m, in \u001b[36mocr\u001b[39m\u001b[34m(input_file, output_file, language, image_dpi, output_type, sidecar, jobs, use_threads, title, author, subject, keywords, rotate_pages, remove_background, deskew, clean, clean_final, unpaper_args, oversample, remove_vectors, force_ocr, skip_text, redo_ocr, skip_big, optimize, jpg_quality, png_quality, jbig2_lossy, jbig2_page_group_size, jbig2_threshold, pages, max_image_mpixels, tesseract_config, tesseract_pagesegmode, tesseract_oem, tesseract_thresholding, pdf_renderer, tesseract_timeout, tesseract_non_ocr_timeout, tesseract_downsample_above, tesseract_downsample_large_images, rotate_pages_threshold, pdfa_image_compression, color_conversion_strategy, user_words, user_patterns, fast_web_view, continue_on_soft_render_error, invalidate_digital_signatures, plugins, plugin_manager, keep_temporary_files, progress_bar, **kwargs)\u001b[39m\n\u001b[32m    370\u001b[39m \u001b[38;5;28;01mif\u001b[39;00m \u001b[33m'\u001b[39m\u001b[33mverbose\u001b[39m\u001b[33m'\u001b[39m \u001b[38;5;129;01min\u001b[39;00m kwargs:\n\u001b[32m    371\u001b[39m     warn(\u001b[33m\"\u001b[39m\u001b[33mocrmypdf.ocr(verbose=) is ignored. Use ocrmypdf.configure_logging().\u001b[39m\u001b[33m\"\u001b[39m)\n\u001b[32m--> \u001b[39m\u001b[32m373\u001b[39m options = \u001b[43mcreate_options\u001b[49m\u001b[43m(\u001b[49m\n\u001b[32m    374\u001b[39m \u001b[43m    \u001b[49m\u001b[43minput_file\u001b[49m\u001b[43m=\u001b[49m\u001b[43minput_file\u001b[49m\u001b[43m,\u001b[49m\n\u001b[32m    375\u001b[39m \u001b[43m    \u001b[49m\u001b[43moutput_file\u001b[49m\u001b[43m=\u001b[49m\u001b[43moutput_file\u001b[49m\u001b[43m,\u001b[49m\n\u001b[32m    376\u001b[39m \u001b[43m    \u001b[49m\u001b[43mparser\u001b[49m\u001b[43m=\u001b[49m\u001b[43mparser\u001b[49m\u001b[43m,\u001b[49m\n\u001b[32m    377\u001b[39m \u001b[43m    \u001b[49m\u001b[43m*\u001b[49m\u001b[43m*\u001b[49m\u001b[43mcreate_options_kwargs\u001b[49m\u001b[43m,\u001b[49m\n\u001b[32m    378\u001b[39m \u001b[43m\u001b[49m\u001b[43m)\u001b[49m\n\u001b[32m    379\u001b[39m check_options(options, plugin_manager)\n\u001b[32m    380\u001b[39m \u001b[38;5;28;01mreturn\u001b[39;00m run_pipeline(options=options, plugin_manager=plugin_manager)\n",
      "\u001b[36mFile \u001b[39m\u001b[32m~/.cache/pypoetry/virtualenvs/ocr-GCQYBIDt-py3.12/lib/python3.12/site-packages/ocrmypdf/api.py:217\u001b[39m, in \u001b[36mcreate_options\u001b[39m\u001b[34m(input_file, output_file, parser, **kwargs)\u001b[39m\n\u001b[32m    214\u001b[39m     cmdline.append(\u001b[33m'\u001b[39m\u001b[33mstream://sidecar\u001b[39m\u001b[33m'\u001b[39m)\n\u001b[32m    216\u001b[39m parser.enable_api_mode()\n\u001b[32m--> \u001b[39m\u001b[32m217\u001b[39m options = \u001b[43mparser\u001b[49m\u001b[43m.\u001b[49m\u001b[43mparse_args\u001b[49m\u001b[43m(\u001b[49m\u001b[43mcmdline\u001b[49m\u001b[43m)\u001b[49m\n\u001b[32m    218\u001b[39m \u001b[38;5;28;01mfor\u001b[39;00m keyword, val \u001b[38;5;129;01min\u001b[39;00m deferred.items():\n\u001b[32m    219\u001b[39m     \u001b[38;5;28msetattr\u001b[39m(options, keyword, val)\n",
      "\u001b[36mFile \u001b[39m\u001b[32m/usr/lib/python3.12/argparse.py:1908\u001b[39m, in \u001b[36mArgumentParser.parse_args\u001b[39m\u001b[34m(self, args, namespace)\u001b[39m\n\u001b[32m   1907\u001b[39m \u001b[38;5;28;01mdef\u001b[39;00m\u001b[38;5;250m \u001b[39m\u001b[34mparse_args\u001b[39m(\u001b[38;5;28mself\u001b[39m, args=\u001b[38;5;28;01mNone\u001b[39;00m, namespace=\u001b[38;5;28;01mNone\u001b[39;00m):\n\u001b[32m-> \u001b[39m\u001b[32m1908\u001b[39m     args, argv = \u001b[38;5;28;43mself\u001b[39;49m\u001b[43m.\u001b[49m\u001b[43mparse_known_args\u001b[49m\u001b[43m(\u001b[49m\u001b[43margs\u001b[49m\u001b[43m,\u001b[49m\u001b[43m \u001b[49m\u001b[43mnamespace\u001b[49m\u001b[43m)\u001b[49m\n\u001b[32m   1909\u001b[39m     \u001b[38;5;28;01mif\u001b[39;00m argv:\n\u001b[32m   1910\u001b[39m         msg = _(\u001b[33m'\u001b[39m\u001b[33munrecognized arguments: \u001b[39m\u001b[38;5;132;01m%s\u001b[39;00m\u001b[33m'\u001b[39m)\n",
      "\u001b[36mFile \u001b[39m\u001b[32m/usr/lib/python3.12/argparse.py:1943\u001b[39m, in \u001b[36mArgumentParser.parse_known_args\u001b[39m\u001b[34m(self, args, namespace)\u001b[39m\n\u001b[32m   1941\u001b[39m         namespace, args = \u001b[38;5;28mself\u001b[39m._parse_known_args(args, namespace)\n\u001b[32m   1942\u001b[39m     \u001b[38;5;28;01mexcept\u001b[39;00m ArgumentError \u001b[38;5;28;01mas\u001b[39;00m err:\n\u001b[32m-> \u001b[39m\u001b[32m1943\u001b[39m         \u001b[38;5;28;43mself\u001b[39;49m\u001b[43m.\u001b[49m\u001b[43merror\u001b[49m\u001b[43m(\u001b[49m\u001b[38;5;28;43mstr\u001b[39;49m\u001b[43m(\u001b[49m\u001b[43merr\u001b[49m\u001b[43m)\u001b[49m\u001b[43m)\u001b[49m\n\u001b[32m   1944\u001b[39m \u001b[38;5;28;01melse\u001b[39;00m:\n\u001b[32m   1945\u001b[39m     namespace, args = \u001b[38;5;28mself\u001b[39m._parse_known_args(args, namespace)\n",
      "\u001b[36mFile \u001b[39m\u001b[32m~/.cache/pypoetry/virtualenvs/ocr-GCQYBIDt-py3.12/lib/python3.12/site-packages/ocrmypdf/cli.py:84\u001b[39m, in \u001b[36mArgumentParser.error\u001b[39m\u001b[34m(self, message)\u001b[39m\n\u001b[32m     82\u001b[39m     \u001b[38;5;28msuper\u001b[39m().error(message)\n\u001b[32m     83\u001b[39m     \u001b[38;5;28;01mreturn\u001b[39;00m\n\u001b[32m---> \u001b[39m\u001b[32m84\u001b[39m \u001b[38;5;28;01mraise\u001b[39;00m \u001b[38;5;167;01mValueError\u001b[39;00m(message)\n",
      "\u001b[31mValueError\u001b[39m: argument -O/--optimize: invalid int value: 'ethiotele.pdf'"
     ]
    }
   ],
   "source": [
    "convert_pdf_to_structured_text(\"ethiotele.pdf\", \"output.txt\")"
   ]
  },
  {
   "cell_type": "code",
   "execution_count": null,
   "metadata": {},
   "outputs": [],
   "source": []
  }
 ],
 "metadata": {
  "kernelspec": {
   "display_name": "ocr-GCQYBIDt-py3.12",
   "language": "python",
   "name": "python3"
  },
  "language_info": {
   "codemirror_mode": {
    "name": "ipython",
    "version": 3
   },
   "file_extension": ".py",
   "mimetype": "text/x-python",
   "name": "python",
   "nbconvert_exporter": "python",
   "pygments_lexer": "ipython3",
   "version": "3.12.3"
  }
 },
 "nbformat": 4,
 "nbformat_minor": 2
}
